{
 "cells": [
  {
   "cell_type": "code",
   "execution_count": 1,
   "metadata": {},
   "outputs": [],
   "source": [
    "import tensorflow as tf\n",
    "import numpy as np\n",
    "from tensorflow.keras import layers, models\n",
    "\n",
    "from keras.models import Sequential,Input,Model\n",
    "from keras.layers import Dropout, Flatten, Reshape,Dense\n",
    "from keras.layers import Conv2D, MaxPooling2D, ZeroPadding2D\n",
    "\n",
    "from sklearn.model_selection import train_test_split\n"
   ]
  },
  {
   "cell_type": "code",
   "execution_count": null,
   "metadata": {},
   "outputs": [],
   "source": [
    "#Question 1\n",
    "#1. Assume you receive real-estate data for 10 million samples as input and each sample has 25 different features/attributes.\n",
    "#Design a 3 layers fully connected network to predict the value of a house for sale (test section).  \n",
    "#Assign 90 to 10 ratio for splitting train and test sets. \n",
    "#Include at least one sort of regularization and apply 1000 iterations for your training step. \n",
    "#Besides these, as a designer, feel free to set the rest of your network hyperparameters as you wish.\n",
    "\n",
    "#data = pd.read_csv(\"housing.csv\")\n",
    "#Using this for reference\n",
    "X = dataset[:,0:23]\n",
    "y = dataset[:,24]\n",
    "\n",
    "#Split 90 to 10 ratio for splitting train and test sets. \n",
    "X_train, X_test , y_train, y_test = train_test_split(X, y, test_size=0.10, random_state=42) \n"
   ]
  },
  {
   "cell_type": "code",
   "execution_count": 2,
   "metadata": {},
   "outputs": [
    {
     "name": "stdout",
     "output_type": "stream",
     "text": [
      "Model: \"sequential\"\n",
      "_________________________________________________________________\n",
      "Layer (type)                 Output Shape              Param #   \n",
      "=================================================================\n",
      "dense (Dense)                (None, 16)                416       \n",
      "_________________________________________________________________\n",
      "dropout (Dropout)            (None, 16)                0         \n",
      "_________________________________________________________________\n",
      "dense_1 (Dense)              (None, 8)                 136       \n",
      "_________________________________________________________________\n",
      "dropout_1 (Dropout)          (None, 8)                 0         \n",
      "_________________________________________________________________\n",
      "dense_2 (Dense)              (None, 4)                 36        \n",
      "=================================================================\n",
      "Total params: 588\n",
      "Trainable params: 588\n",
      "Non-trainable params: 0\n",
      "_________________________________________________________________\n"
     ]
    }
   ],
   "source": [
    "model = tf.keras.Sequential()\n",
    "\n",
    "#3 layers for network\n",
    "model.add(Dense(16, kernel_regularizer=regularizers.l2(0.01), input_dim=25, activation='relu'))\n",
    "model.add(Dropout(0.1))\n",
    "model.add(Dense(8, kernel_regularizer=regularizers.l2(0.01), activation='relu'))\n",
    "model.add(Dropout(0.1))\n",
    "model.add(Dense(4, kernel_regularizer=regularizers.l2(0.01), activation='relu'))\n",
    "\n",
    "model.summary()"
   ]
  },
  {
   "cell_type": "code",
   "execution_count": null,
   "metadata": {},
   "outputs": [],
   "source": [
    "model.compile(loss='mean_squared_error')"
   ]
  },
  {
   "cell_type": "code",
   "execution_count": null,
   "metadata": {},
   "outputs": [],
   "source": [
    "model.fit(X_train, y_train, epochs=1000, batch_size=10)"
   ]
  },
  {
   "cell_type": "code",
   "execution_count": null,
   "metadata": {},
   "outputs": [],
   "source": [
    "model.predit(X_test, y_test)"
   ]
  },
  {
   "cell_type": "code",
   "execution_count": 6,
   "metadata": {},
   "outputs": [
    {
     "name": "stdout",
     "output_type": "stream",
     "text": [
      "Model: \"sequential_4\"\n",
      "_________________________________________________________________\n",
      "Layer (type)                 Output Shape              Param #   \n",
      "=================================================================\n",
      "zero_padding2d_3 (ZeroPaddin (None, 128, 128, 3)       0         \n",
      "_________________________________________________________________\n",
      "conv2d_60 (Conv2D)           (None, 61, 61, 128)       24704     \n",
      "_________________________________________________________________\n",
      "max_pooling2d_9 (MaxPooling2 (None, 30, 30, 128)       0         \n",
      "_________________________________________________________________\n",
      "conv2d_61 (Conv2D)           (None, 14, 14, 48)        55344     \n",
      "_________________________________________________________________\n",
      "max_pooling2d_10 (MaxPooling (None, 13, 13, 48)        0         \n",
      "_________________________________________________________________\n",
      "conv2d_62 (Conv2D)           (None, 13, 13, 96)        4704      \n",
      "_________________________________________________________________\n",
      "conv2d_63 (Conv2D)           (None, 11, 11, 192)       166080    \n",
      "_________________________________________________________________\n",
      "conv2d_64 (Conv2D)           (None, 11, 11, 96)        18528     \n",
      "_________________________________________________________________\n",
      "conv2d_65 (Conv2D)           (None, 9, 9, 192)         166080    \n",
      "_________________________________________________________________\n",
      "max_pooling2d_11 (MaxPooling (None, 4, 4, 192)         0         \n",
      "_________________________________________________________________\n",
      "conv2d_66 (Conv2D)           (None, 4, 4, 64)          12352     \n",
      "_________________________________________________________________\n",
      "conv2d_67 (Conv2D)           (None, 4, 4, 128)         8320      \n",
      "_________________________________________________________________\n",
      "conv2d_68 (Conv2D)           (None, 4, 4, 64)          8256      \n",
      "_________________________________________________________________\n",
      "conv2d_69 (Conv2D)           (None, 4, 4, 128)         8320      \n",
      "_________________________________________________________________\n",
      "conv2d_70 (Conv2D)           (None, 4, 4, 64)          8256      \n",
      "_________________________________________________________________\n",
      "conv2d_71 (Conv2D)           (None, 4, 4, 128)         8320      \n",
      "_________________________________________________________________\n",
      "conv2d_72 (Conv2D)           (None, 4, 4, 64)          8256      \n",
      "_________________________________________________________________\n",
      "conv2d_73 (Conv2D)           (None, 4, 4, 128)         8320      \n",
      "_________________________________________________________________\n",
      "conv2d_74 (Conv2D)           (None, 4, 4, 64)          8256      \n",
      "_________________________________________________________________\n",
      "conv2d_75 (Conv2D)           (None, 4, 4, 128)         8320      \n",
      "_________________________________________________________________\n",
      "conv2d_76 (Conv2D)           (None, 4, 4, 64)          8256      \n",
      "_________________________________________________________________\n",
      "conv2d_77 (Conv2D)           (None, 4, 4, 128)         8320      \n",
      "_________________________________________________________________\n",
      "conv2d_78 (Conv2D)           (None, 4, 4, 256)         33024     \n",
      "_________________________________________________________________\n",
      "conv2d_79 (Conv2D)           (None, 4, 4, 800)         205600    \n",
      "_________________________________________________________________\n",
      "flatten_3 (Flatten)          (None, 12800)             0         \n",
      "_________________________________________________________________\n",
      "dense_8 (Dense)              (None, 3200)              40963200  \n",
      "_________________________________________________________________\n",
      "reshape_3 (Reshape)          (None, 8, 8, 50)          0         \n",
      "=================================================================\n",
      "Total params: 41,740,816\n",
      "Trainable params: 41,740,816\n",
      "Non-trainable params: 0\n",
      "_________________________________________________________________\n"
     ]
    }
   ],
   "source": [
    "#Question 2\n",
    "#For an object detection problem, assume you are designing a YOLO like model to do the job. \n",
    "#Your input image size is 127 x 127 (RGB). We are looking for a 8x8 output grid size. \n",
    "#The number of classes is 20 and for each cell in the 8x8 grid, we are considering 2 anchors. \n",
    "#Design the CNN network and as a designer feel free to set your networks hyperparameters as you wish. \n",
    "\n",
    "# output y = 8 x 8 x 2 x (5 (probability + box) + 20 classes)\n",
    "# 8x8 gride size, 2 anchors, 20 classes \n",
    "#20 conv layers\n",
    "\n",
    "\n",
    "model2 = tf.keras.Sequential()\n",
    "model2.add(ZeroPadding2D(padding=((1,0), (1,0)), input_shape=(127, 127, 3)))\n",
    "model2.add(Conv2D(filters=128, kernel_size=(8,8), activation='relu', strides=2))\n",
    "model2.add(MaxPooling2D(pool_size=2,strides=2))\n",
    "\n",
    "model2.add(Conv2D(filters=48, kernel_size=3, activation='relu', strides=2))\n",
    "model2.add(MaxPooling2D(pool_size=2,strides=1))\n",
    "\n",
    "model2.add(Conv2D(filters=96, kernel_size=1, activation='relu'))\n",
    "model2.add(Conv2D(filters=192, kernel_size=3, activation='relu'))\n",
    "model2.add(Conv2D(filters=96, kernel_size=1, activation='relu'))\n",
    "model2.add(Conv2D(filters=192, kernel_size=3, activation='relu'))\n",
    "model2.add(MaxPooling2D(pool_size=2,strides=2))\n",
    "\n",
    "model2.add(Conv2D(filters=64, kernel_size=1, activation='relu'))\n",
    "model2.add(Conv2D(filters=128, kernel_size=1, activation='relu'))\n",
    "model2.add(Conv2D(filters=64, kernel_size=1, activation='relu'))\n",
    "model2.add(Conv2D(filters=128, kernel_size=1, activation='relu'))\n",
    "model2.add(Conv2D(filters=64, kernel_size=1, activation='relu'))\n",
    "model2.add(Conv2D(filters=128, kernel_size=1, activation='relu'))\n",
    "model2.add(Conv2D(filters=64, kernel_size=1, activation='relu'))\n",
    "model2.add(Conv2D(filters=128, kernel_size=1, activation='relu'))\n",
    "\n",
    "\n",
    "model2.add(Conv2D(filters=64, kernel_size=1, activation='relu'))\n",
    "model2.add(Conv2D(filters=128, kernel_size=1, activation='relu'))\n",
    "model2.add(Conv2D(filters=64, kernel_size=1, activation='relu'))\n",
    "model2.add(Conv2D(filters=128, kernel_size=1, activation='relu'))\n",
    "\n",
    "model2.add(Conv2D(filters=256, kernel_size=1, activation='relu'))\n",
    "model2.add(Conv2D(filters=800, kernel_size=1, activation='relu'))\n",
    "\n",
    "model2.add(Flatten())\n",
    "model2.add(Dense((3200)))\n",
    "model2.add(Reshape(target_shape=(8,8,50)))\n",
    "\n",
    "model2.summary()"
   ]
  },
  {
   "cell_type": "code",
   "execution_count": null,
   "metadata": {},
   "outputs": [],
   "source": []
  },
  {
   "cell_type": "code",
   "execution_count": null,
   "metadata": {},
   "outputs": [],
   "source": []
  },
  {
   "cell_type": "code",
   "execution_count": null,
   "metadata": {},
   "outputs": [],
   "source": []
  }
 ],
 "metadata": {
  "kernelspec": {
   "display_name": "Python 3",
   "language": "python",
   "name": "python3"
  },
  "language_info": {
   "codemirror_mode": {
    "name": "ipython",
    "version": 3
   },
   "file_extension": ".py",
   "mimetype": "text/x-python",
   "name": "python",
   "nbconvert_exporter": "python",
   "pygments_lexer": "ipython3",
   "version": "3.8.5"
  }
 },
 "nbformat": 4,
 "nbformat_minor": 4
}
